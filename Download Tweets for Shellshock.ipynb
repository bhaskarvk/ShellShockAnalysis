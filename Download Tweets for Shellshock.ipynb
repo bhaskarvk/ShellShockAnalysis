{
 "metadata": {
  "name": "",
  "signature": "sha256:22b20cfd234231a9da1d7e8f4a01fbde97f5cff9d09015a368de8a3c2e775ffa"
 },
 "nbformat": 3,
 "nbformat_minor": 0,
 "worksheets": [
  {
   "cells": [
    {
     "cell_type": "code",
     "collapsed": false,
     "input": [
      "import tweepy\n",
      "import sys\n",
      "import jsonpickle\n",
      "import os"
     ],
     "language": "python",
     "metadata": {},
     "outputs": []
    },
    {
     "cell_type": "code",
     "collapsed": false,
     "input": [
      "sys.stdout = os.fdopen(sys.stdout.fileno(), 'w', 0)\n",
      "\n",
      "# API and ACCESS KEYS\n",
      "API_KEY = '<TWITTER_API_KEY'  # Change me\n",
      "API_SECRET = '<TWITTER_API_SECRET' # Change me\n",
      "\n",
      "searchQuery = 'bash OR bashbleed OR shellshock OR vuln OR vulnerability OR cve-2014-6271''\n",
      "maxTweets = 500000\n",
      "tweetsPerQry = 100\n",
      "fName = 'shellshockTweets.txt'"
     ],
     "language": "python",
     "metadata": {},
     "outputs": []
    },
    {
     "cell_type": "code",
     "collapsed": false,
     "input": [
      "auth = tweepy.AppAuthHandler(API_KEY, API_SECRET)\n",
      "\n",
      "# We make the client wait in case we exceed our rate of 450 queries / 15 min.\n",
      "# So this can take a while before all tweets are fetched.\n",
      "api = tweepy.API(auth, wait_on_rate_limit=True, wait_on_rate_limit_notify=True)\n",
      "\n",
      "if (not api):\n",
      "    print (\"Can't Authenticate Check Creds!\")\n",
      "    sys.exit(-1)\n",
      "\n",
      "last_id = -1\n",
      "tweetCount = 0\n",
      "print(\"Downloading max {0} tweets\".format(maxTweets))\n",
      "with open(fName, 'w') as f:\n",
      "    while tweetCount < maxTweets:\n",
      "        try:\n",
      "            if (last_id <= 0):\n",
      "                new_tweets = api.search(q=searchQuery, count=tweetsPerQry)\n",
      "            else:\n",
      "                new_tweets = api.search(q=searchQuery, count=tweetsPerQry,\n",
      "                                        max_id=str(last_id - 1))\n",
      "            if not new_tweets:\n",
      "                print(\"No more tweets found\")\n",
      "                break\n",
      "            for tweet in new_tweets:\n",
      "                f.write(jsonpickle.encode(tweet._json, unpicklable=False) + '\\n')\n",
      "            tweetCount += len(new_tweets)\n",
      "            print(\"Downloaded {0} tweets\".format(tweetCount))\n",
      "            last_id = new_tweets[-1].id\n",
      "        except tweepy.TweepError as e:\n",
      "            print(\"some error : \" + str(e))\n",
      "            break\n",
      "\n",
      "f.close()\n",
      "print (\"Downloaded {0} tweets, Saved to {1}\".format(tweetCount, fName))"
     ],
     "language": "python",
     "metadata": {},
     "outputs": []
    },
    {
     "cell_type": "markdown",
     "metadata": {},
     "source": [
      "\n",
      "**POST ACTION**\n",
      " \n",
      "After file is downloaded gzip it using ```gzip shellshockTweets.txt``` \n",
      "\n",
      "_TODO_ Automate the gzipping part"
     ]
    }
   ],
   "metadata": {}
  }
 ]
}