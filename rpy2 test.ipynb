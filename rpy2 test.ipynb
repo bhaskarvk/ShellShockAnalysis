{
 "metadata": {
  "name": "",
  "signature": "sha256:07cdcf814b5dde2be15733494b46e4f62c49cd6180f54f15c84f6293783a3079"
 },
 "nbformat": 3,
 "nbformat_minor": 0,
 "worksheets": [
  {
   "cells": [
    {
     "cell_type": "code",
     "collapsed": false,
     "input": [
      "import requests as r\n",
      "import json\n",
      "import re\n",
      "import pandas as pd\n",
      "from ggplot import *\n",
      "%matplotlib inline"
     ],
     "language": "python",
     "metadata": {},
     "outputs": []
    },
    {
     "cell_type": "code",
     "collapsed": false,
     "input": [
      "from IPython.display import HTML\n",
      "input_form = \"\"\"Click to toogle inputs view:\n",
      "<input type=\"button\" class=\"ui-button ui-widget ui-state-default ui-corner-all ui-button-text-only\" value=\"Hide\" id=\"onoff\" onclick=\"onoff();\">\n",
      "\"\"\"\n",
      "javascript = \"\"\"\n",
      "<script type=\"text/javascript\">\n",
      "    on = \"Show\";\n",
      "    off = \"Hide\"\n",
      "    function onoff(){\n",
      "      currentvalue = document.getElementById('onoff').value;\n",
      "      if(currentvalue == off){\n",
      "        document.getElementById(\"onoff\").value=on;\n",
      "          $('div.input').hide();\n",
      "      }else{\n",
      "        document.getElementById(\"onoff\").value=off;\n",
      "          $('div.input').show();\n",
      "      }\n",
      "}\n",
      "</script>\n",
      "\"\"\"\n",
      "HTML(input_form + javascript)"
     ],
     "language": "python",
     "metadata": {},
     "outputs": [
      {
       "html": [
        "Click to toogle inputs view:\n",
        "<input type=\"button\" class=\"ui-button ui-widget ui-state-default ui-corner-all ui-button-text-only\" value=\"Hide\" id=\"onoff\" onclick=\"onoff();\">\n",
        "\n",
        "<script type=\"text/javascript\">\n",
        "    on = \"Show\";\n",
        "    off = \"Hide\"\n",
        "    function onoff(){\n",
        "      currentvalue = document.getElementById('onoff').value;\n",
        "      if(currentvalue == off){\n",
        "        document.getElementById(\"onoff\").value=on;\n",
        "          $('div.input').hide();\n",
        "      }else{\n",
        "        document.getElementById(\"onoff\").value=off;\n",
        "          $('div.input').show();\n",
        "      }\n",
        "}\n",
        "</script>\n"
       ],
       "metadata": {},
       "output_type": "pyout",
       "prompt_number": 65,
       "text": [
        "<IPython.core.display.HTML at 0x1203cdd90>"
       ]
      }
     ],
     "prompt_number": 65
    },
    {
     "cell_type": "code",
     "collapsed": false,
     "input": [
      "%matplotlib inline\n",
      "from IPython.display import HTML"
     ],
     "language": "python",
     "metadata": {},
     "outputs": []
    },
    {
     "cell_type": "code",
     "collapsed": false,
     "input": [
      "HTML('''<script>\n",
      "code_show=true; \n",
      "function code_toggle() {\n",
      " if (code_show){\n",
      " $('div.input').hide();\n",
      " } else {\n",
      " $('div.input').show();\n",
      " }\n",
      " code_show = !code_show\n",
      "} \n",
      "$( document ).ready(code_toggle);\n",
      "</script>\n",
      "The raw code for this IPython notebook is by default hidden for easier reading.\n",
      "To toggle on/off the raw code, click <a href=\"javascript:code_toggle()\">here</a>.''')"
     ],
     "language": "python",
     "metadata": {},
     "outputs": []
    },
    {
     "cell_type": "code",
     "collapsed": false,
     "input": [
      "def inline_map(map):\n",
      "    \"\"\"\n",
      "    Embeds the HTML source of the map directly into the IPython notebook.\n",
      "    \n",
      "    This method will not work if the map depends on any files (json data). Also this uses\n",
      "    the HTML5 srcdoc attribute, which may not be supported in all browsers.\n",
      "    \"\"\"\n",
      "    map._build_map()\n",
      "    return HTML('<iframe srcdoc=\"{srcdoc}\" style=\"width: 100%; height: 510px; border: none\"></iframe>'.format(srcdoc=map.HTML.replace('\"', '&quot;')))\n",
      "\n",
      "def embed_map(map, path=\"map.html\"):\n",
      "    \"\"\"\n",
      "    Embeds a linked iframe to the map into the IPython notebook.\n",
      "    \n",
      "    Note: this method will not capture the source of the map into the notebook.\n",
      "    This method should work for all maps (as long as they use relative urls).\n",
      "    \"\"\"\n",
      "    map.create_map(path=path)\n",
      "    return HTML('<iframe src=\"files/{path}\" style=\"width: 100%; height: 510px; border: none\"></iframe>'.format(path=path))"
     ],
     "language": "python",
     "metadata": {},
     "outputs": []
    },
    {
     "cell_type": "code",
     "collapsed": false,
     "input": [
      "import folium\n",
      "map = folium.Map(location=[30.5171, 0.1062],  width=1000, height = 500, zoom_start=2)\n",
      "#map.simple_marker([45.3288, -121.6625], popup='My Popup Message')\n",
      "map.circle_marker(location=[45.5215, -122.6261], radius=800,\n",
      "                  popup='My Popup Info', line_color='#ff0000',\n",
      "                  fill_color='#3186cc', fill_opacity=0.2)\n",
      "inline_map(map)"
     ],
     "language": "python",
     "metadata": {},
     "outputs": []
    },
    {
     "cell_type": "code",
     "collapsed": false,
     "input": [
      "import pandas as pd\n",
      "df = pd.DataFrame([{\"runner_id\": \"bob\", \"time_A\": 30,\n",
      "                        \"time_B\": 25, \"speed_A\": 5, \"speed_B\": 10},\n",
      "                       {\"runner_id\": \"mary\", \"time_A\": 29,\n",
      "                        \"time_B\": 19, \"speed_A\": 8, \"speed_B\": 12}])\n",
      "\n",
      "from rpy2.robjects.lib import grid\n",
      "from rpy2.robjects.lib import ggplot2\n",
      "import rpy2.robjects.pandas2ri\n",
      "rpy2.robjects.pandas2ri.activate()\n",
      "\n",
      "p = ggplot2.ggplot(rpy2.robjects.conversion.py2ri(df)) + \\\n",
      "    ggplot2.geom_point(ggplot2.aes_string(x=\"time_A\",y=\"speed_A\"),colour=\"#ff0000\") + \\\n",
      "    ggplot2.geom_point(ggplot2.aes_string(x=\"time_B\",y=\"speed_B\"),colour=\"#0000ff\") + \\\n",
      "    ggplot2.scale_x_continuous(\"time\") + \\\n",
      "    ggplot2.scale_y_continuous(\"speed\")\n",
      "p.plot()\n",
      "\n",
      " \n"
     ],
     "language": "python",
     "metadata": {},
     "outputs": []
    },
    {
     "cell_type": "code",
     "collapsed": false,
     "input": [
      "import matplotlib.pyplot as plt, mpld3\n",
      "mpld3.enable_notebook()\n",
      "p = plt.plot([3,1,4,1,5], 'ks-', mec='w', mew=5, ms=20)\n",
      "p"
     ],
     "language": "python",
     "metadata": {},
     "outputs": []
    },
    {
     "cell_type": "code",
     "collapsed": false,
     "input": [
      "js_loader = \"\"\"\n",
      "function verifyJSLoaded(){\n",
      "    var jsapiLoaded = (typeof google === 'object' && typeof google.maps === 'object');\n",
      "    console.log(\"Google API Loaded: \" + jsapiLoaded);\n",
      "    return jsapiLoaded;\n",
      "}\n",
      "\n",
      "function loadScript() {\n",
      "  if (!verifyJSLoaded()) {\n",
      "    console.log('Loading Google API.');\n",
      "    var script = document.createElement(\"script\");\n",
      "    script.type = \"text/javascript\";\n",
      "    script.src = \"https://maps.googleapis.com/maps/api/js?sensor=false&libraries=visualization&callback=console.log\";\n",
      "    document.body.appendChild(script);\n",
      "  }\n",
      "}\n",
      "\n",
      "loadScript();\n",
      "\"\"\"\n",
      "\n",
      "Javascript(js_loader)"
     ],
     "language": "python",
     "metadata": {},
     "outputs": []
    },
    {
     "cell_type": "code",
     "collapsed": false,
     "input": [
      "html_template = '<div id=\"{0}\" style=\"width: 1024px; height: 768px\"></div>'\n",
      "#This is to make sure the JS gets loaded before we try to load the maps\n",
      "time.sleep(1) \n"
     ],
     "language": "python",
     "metadata": {},
     "outputs": []
    },
    {
     "cell_type": "code",
     "collapsed": false,
     "input": [
      "def gen_javascript(gJSONs, div_id):\n",
      "    \"\"\"\n",
      "    Generates javascript to draw a heatmap with Google Maps API.\n",
      "\n",
      "    \"\"\"\n",
      "\n",
      "    # Creates Javascript objects which will comprise geoData.\n",
      "    coords = ',\\n  '.join([\"new google.maps.LatLng(%s, %s)\" % tuple(pair) for pair in gJSONs])    \n",
      "    template_jscript = \"\"\"\n",
      "    var geoData = [\n",
      "    %s\n",
      "    ];\n",
      "        \n",
      "    var map, heatmap;\n",
      "        \n",
      "    function hmap_initialize() {\n",
      "        var mapOptions = {\n",
      "        zoom: 1,\n",
      "        center: new google.maps.LatLng(30.5171, 0.1062),\n",
      "        mapTypeId: google.maps.MapTypeId.SATELLITE\n",
      "        };\n",
      "        \n",
      "        map = new google.maps.Map(document.getElementById('%s'),\n",
      "              mapOptions);\n",
      "        \n",
      "        var pointArray = new google.maps.MVCArray(geoData);\n",
      "        \n",
      "        heatmap = new google.maps.visualization.HeatmapLayer({\n",
      "        data: pointArray\n",
      "        });\n",
      "        \n",
      "      heatmap.setMap(map);\n",
      "    }\n",
      "    \n",
      "    hmap_initialize();\n",
      "    \"\"\"\n",
      "    return template_jscript % (coords, div_id)"
     ],
     "language": "python",
     "metadata": {},
     "outputs": []
    },
    {
     "cell_type": "code",
     "collapsed": false,
     "input": [
      "HTML(html_template.format('map_001'))"
     ],
     "language": "python",
     "metadata": {},
     "outputs": []
    },
    {
     "cell_type": "code",
     "collapsed": false,
     "input": [
      "jscript = gen_javascript(tweetsWithLoc['geo'].map(lambda x: x['coordinates']),'map_001')\n",
      "Javascript(jscript)"
     ],
     "language": "python",
     "metadata": {},
     "outputs": []
    },
    {
     "cell_type": "code",
     "collapsed": false,
     "input": [
      "Javascript(\n",
      "'''\n",
      "!function(d,s,id){var js,fjs=d.getElementsByTagName(s)[0],p=/^http:/.test(d.location)?'http':'https';if(!d.getElementById(id)){js=d.createElement(s);js.id=id;js.src=p+\"://platform.twitter.com/widgets.js\";fjs.parentNode.insertBefore(js,fjs);}}(document,\"script\",\"twitter-wjs\");\n",
      "''')"
     ],
     "language": "python",
     "metadata": {},
     "outputs": []
    },
    {
     "cell_type": "code",
     "collapsed": false,
     "input": [
      "Javascript('''\n",
      "function verifyJSLoaded() {\n",
      "    return false;\n",
      "}\n",
      "function loadScript() {\n",
      "  if (!verifyJSLoaded()) {\n",
      "    console.log('Loading Tweeter API.');\n",
      "    var script = document.createElement(\"script\");\n",
      "    script.type = \"text/javascript\";\n",
      "    script.src = \"https:////platform.twitter.com/widgets.js\";\n",
      "    document.body.appendChild(script);\n",
      "  }\n",
      "}\n",
      "\n",
      "loadScript();\n",
      "''')"
     ],
     "language": "python",
     "metadata": {},
     "outputs": []
    },
    {
     "cell_type": "code",
     "collapsed": false,
     "input": [
      "HTML('<script type=\"text/javascript\" src=\"//www.google.com/trends/embed.js?hl=en-US&q=shellshock&date=today+1-m&cmpt=q&content=1&cid=TIMESERIES_GRAPH_0&export=5&w=500&h=330\"></script>''')"
     ],
     "language": "python",
     "metadata": {},
     "outputs": [
      {
       "html": [
        "<script type=\"text/javascript\" src=\"//www.google.com/trends/embed.js?hl=en-US&q=shellshock&date=today+1-m&cmpt=q&content=1&cid=TIMESERIES_GRAPH_0&export=5&w=500&h=330\"></script>"
       ],
       "metadata": {},
       "output_type": "pyout",
       "prompt_number": 62,
       "text": [
        "<IPython.core.display.HTML at 0x11644ae10>"
       ]
      }
     ],
     "prompt_number": 62
    },
    {
     "cell_type": "code",
     "collapsed": false,
     "input": [
      "from IPython.display import Image"
     ],
     "language": "python",
     "metadata": {},
     "outputs": [],
     "prompt_number": 63
    },
    {
     "cell_type": "code",
     "collapsed": false,
     "input": [
      "Image('googleTrend-shellshock.png')"
     ],
     "language": "python",
     "metadata": {},
     "outputs": [
      {
       "metadata": {},
       "output_type": "pyout",
       "png": "[encoded data removed]",
       "prompt_number": 64,
       "text": [
        "<IPython.core.display.Image at 0x12022d450>"
       ]
      }
     ],
     "prompt_number": 64
    },
    {
     "cell_type": "code",
     "collapsed": false,
     "input": [],
     "language": "python",
     "metadata": {},
     "outputs": []
    }
   ],
   "metadata": {}
  }
 ]
}